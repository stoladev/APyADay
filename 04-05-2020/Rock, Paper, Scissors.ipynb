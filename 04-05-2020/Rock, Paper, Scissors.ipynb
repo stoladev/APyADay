{
 "cells": [
  {
   "cell_type": "code",
   "execution_count": 48,
   "metadata": {},
   "outputs": [
    {
     "name": "stdout",
     "output_type": "stream",
     "text": [
      "Please choose one: ['rock', 'paper', 'scissors']\n"
     ]
    },
    {
     "name": "stdin",
     "output_type": "stream",
     "text": [
      " sdf\n"
     ]
    },
    {
     "name": "stdout",
     "output_type": "stream",
     "text": [
      "You didn't choose rock, paper, or scissors. Please try again.\n"
     ]
    }
   ],
   "source": [
    "# Rock, Paper, Scissors Program\n",
    "\n",
    "# Imports\n",
    "import random\n",
    "\n",
    "# Global variables\n",
    "r_p_s = [\"rock\", \"paper\", \"scissors\"]\n",
    "user_choice = \"\"\n",
    "\n",
    "# Functions\n",
    "def game(user_choice):\n",
    "    random_choice = random.choice(r_p_s)\n",
    "    if user_choice == \"rock\" and random_choice == \"scissors\":\n",
    "        print(\"You chose \"+str(user_choice)+\", while the computer chose \"+str(random_choice)+\".\")\n",
    "        print(\"You win!\")\n",
    "    elif user_choice == \"paper\" and random_choice == \"rock\":\n",
    "        print(\"You chose \"+str(user_choice)+\", while the computer chose \"+str(random_choice)+\".\")\n",
    "        print(\"You win!\")\n",
    "    elif user_choice == \"scissors\" and random_choice == \"paper\":\n",
    "        print(\"You chose \"+str(user_choice)+\", while the computer chose \"+str(random_choice)+\".\")\n",
    "        print(\"You win!\")\n",
    "    elif user_choice == random_choice:\n",
    "        print(\"You chose \"+str(user_choice)+\", while the computer chose \"+str(random_choice)+\".\")\n",
    "        print(\"It's a tie.\")\n",
    "    elif user_choice != \"rock\" and \"paper\" and \"scissors\":\n",
    "        print(\"You didn't choose rock, paper, or scissors. Please try again.\")\n",
    "    else:\n",
    "        print(\"You chose \"+str(user_choice)+\", while the computer chose \"+str(random_choice)+\".\")\n",
    "        print(\"You lose.\")\n",
    "\n",
    "# User message and input\n",
    "print(\"Please choose one: \"+str(r_p_s))\n",
    "user_choice = input()\n",
    "game(user_choice)\n",
    "\n",
    "\n",
    "\n",
    "\n"
   ]
  },
  {
   "cell_type": "code",
   "execution_count": null,
   "metadata": {},
   "outputs": [],
   "source": []
  },
  {
   "cell_type": "code",
   "execution_count": null,
   "metadata": {},
   "outputs": [],
   "source": []
  }
 ],
 "metadata": {
  "kernelspec": {
   "display_name": "Python 3",
   "language": "python",
   "name": "python3"
  },
  "language_info": {
   "codemirror_mode": {
    "name": "ipython",
    "version": 3
   },
   "file_extension": ".py",
   "mimetype": "text/x-python",
   "name": "python",
   "nbconvert_exporter": "python",
   "pygments_lexer": "ipython3",
   "version": "3.8.2"
  }
 },
 "nbformat": 4,
 "nbformat_minor": 4
}
