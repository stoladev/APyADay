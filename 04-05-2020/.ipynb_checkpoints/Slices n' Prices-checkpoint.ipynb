{
 "cells": [
  {
   "cell_type": "code",
   "execution_count": 2,
   "metadata": {},
   "outputs": [
    {
     "name": "stdout",
     "output_type": "stream",
     "text": [
      "We sell 7 different kinds of pizza!\n",
      "\n",
      "The 3 cheapest pizzas are:\n",
      "[(1, 'cheese'), (2, 'mushrooms'), (2, 'olives')]\n",
      "\n",
      "We have 3 $2 pizzas.\n"
     ]
    }
   ],
   "source": [
    "# Variables\n",
    "toppings = ['pepperoni', 'pineapple', 'cheese', 'sausage', 'olives', 'anchovies', 'mushrooms']\n",
    "prices = [2, 6, 1, 3, 2, 7, 2]\n",
    "num_pizzas = len(toppings)\n",
    "num_two_dollar_slices = prices.count(2)\n",
    "pizzas = list(zip(prices, toppings))\n",
    "pizzas.sort() \n",
    "cheapest_pizza = pizzas[0]\n",
    "priciest_pizza = pizzas[6]\n",
    "three_cheapest = pizzas[0:3:1]\n",
    "\n",
    "# Prints (Pizza Info)\n",
    "print(\"We sell \"+str(num_pizzas)+\" different kinds of pizza!\")\n",
    "print()\n",
    "print(\"The 3 cheapest pizzas are:\")\n",
    "print(three_cheapest)\n",
    "print()\n",
    "print(\"We have \"+str(num_two_dollar_slices)+\" $2 pizzas.\")"
   ]
  },
  {
   "cell_type": "code",
   "execution_count": null,
   "metadata": {},
   "outputs": [],
   "source": []
  },
  {
   "cell_type": "code",
   "execution_count": null,
   "metadata": {},
   "outputs": [],
   "source": []
  },
  {
   "cell_type": "code",
   "execution_count": null,
   "metadata": {},
   "outputs": [],
   "source": []
  }
 ],
 "metadata": {
  "kernelspec": {
   "display_name": "Python 3",
   "language": "python",
   "name": "python3"
  },
  "language_info": {
   "codemirror_mode": {
    "name": "ipython",
    "version": 3
   },
   "file_extension": ".py",
   "mimetype": "text/x-python",
   "name": "python",
   "nbconvert_exporter": "python",
   "pygments_lexer": "ipython3",
   "version": "3.8.2"
  }
 },
 "nbformat": 4,
 "nbformat_minor": 4
}
